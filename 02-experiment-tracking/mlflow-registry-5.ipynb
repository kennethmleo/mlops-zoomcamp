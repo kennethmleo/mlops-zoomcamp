{
 "cells": [
  {
   "cell_type": "code",
   "execution_count": 84,
   "id": "1d7e9400",
   "metadata": {},
   "outputs": [],
   "source": [
    "from mlflow.tracking import MlflowClient\n",
    "\n",
    "MLFLOW_TRACKING_URI = \"sqlite:///mlflow.db\"\n",
    "\n",
    "client= MlflowClient(tracking_uri=MLFLOW_TRACKING_URI)"
   ]
  },
  {
   "cell_type": "code",
   "execution_count": 85,
   "id": "8a290729",
   "metadata": {},
   "outputs": [
    {
     "data": {
      "text/plain": [
       "[<Experiment: artifact_location='/Users/kennethleo/Documents/GitHub/mlops-zoomcamp/02-experiment-tracking/mlruns/2', creation_time=1761678509229, experiment_id='2', last_update_time=1761678509229, lifecycle_stage='active', name='my-cool-experiment', tags={}>,\n",
       " <Experiment: artifact_location='/Users/kennethleo/Documents/GitHub/mlops-zoomcamp/02-experiment-tracking/mlruns/1', creation_time=1761635392108, experiment_id='1', last_update_time=1761635392108, lifecycle_stage='active', name='nyc-taxi-experiment', tags={}>,\n",
       " <Experiment: artifact_location='/Users/kennethleo/Documents/GitHub/mlops-zoomcamp/02-experiment-tracking/mlruns/0', creation_time=1761635392105, experiment_id='0', last_update_time=1761635392105, lifecycle_stage='active', name='Default', tags={}>]"
      ]
     },
     "execution_count": 85,
     "metadata": {},
     "output_type": "execute_result"
    }
   ],
   "source": [
    "client.search_experiments()"
   ]
  },
  {
   "cell_type": "code",
   "execution_count": 87,
   "id": "a3d05fd1",
   "metadata": {},
   "outputs": [
    {
     "data": {
      "text/plain": [
       "'3'"
      ]
     },
     "execution_count": 87,
     "metadata": {},
     "output_type": "execute_result"
    }
   ],
   "source": [
    "client.create_experiment(name=\"another-cool-experiment\")"
   ]
  },
  {
   "cell_type": "code",
   "execution_count": 88,
   "id": "1387dbd9",
   "metadata": {},
   "outputs": [],
   "source": [
    "from  mlflow.entities import ViewType\n",
    "\n",
    "runs = client.search_runs(\n",
    "    experiment_ids=[\"1\"],\n",
    "    filter_string=\"metrics.rmse < 6.8\",\n",
    "    run_view_type=ViewType.ACTIVE_ONLY,\n",
    "    max_results=5,\n",
    "    order_by=[\"metrics.rmse ASC\"]\n",
    "    )"
   ]
  },
  {
   "cell_type": "code",
   "execution_count": 89,
   "id": "780f6566",
   "metadata": {},
   "outputs": [
    {
     "name": "stdout",
     "output_type": "stream",
     "text": [
      "Run ID: 5ef86dad014342e59f774415cb739edc, RMSE: 5.127653127776889\n",
      "Run ID: af631cc5e7ce4a24bdc2951de45ac1d7, RMSE: 5.127653127776889\n",
      "Run ID: dd93577001584a039074992b537e9890, RMSE: 5.127653127776889\n",
      "Run ID: 685a2d9fd49d4450864b5927b74896df, RMSE: 5.128611834046107\n",
      "Run ID: effc63a1295845b09dff940970e1a873, RMSE: 5.128639627775001\n"
     ]
    }
   ],
   "source": [
    "for run in runs:\n",
    "    print(f\"Run ID: {run.info.run_id}, RMSE: {run.data.metrics['rmse']}\")"
   ]
  },
  {
   "cell_type": "code",
   "execution_count": 90,
   "id": "85a026f7",
   "metadata": {},
   "outputs": [],
   "source": [
    "#promote some of these models to model registry\n",
    "\n",
    "import mlflow\n",
    "\n",
    "mlflow.set_tracking_uri(MLFLOW_TRACKING_URI)"
   ]
  },
  {
   "cell_type": "code",
   "execution_count": 91,
   "id": "22c8cb66",
   "metadata": {},
   "outputs": [
    {
     "name": "stderr",
     "output_type": "stream",
     "text": [
      "Registered model 'nyc-taxi-xgboost-latest' already exists. Creating a new version of this model...\n",
      "2025/10/29 11:44:38 WARNING mlflow.tracking._model_registry.fluent: Run with id 5ef86dad014342e59f774415cb739edc has no artifacts at artifact path 'model', registering model based on models:/m-e63222b9b0074f779cb1f4b57ccc4d02 instead\n",
      "Created version '5' of model 'nyc-taxi-xgboost-latest'.\n"
     ]
    },
    {
     "data": {
      "text/plain": [
       "<ModelVersion: aliases=[], creation_timestamp=1761709478185, current_stage='None', deployment_job_state=None, description=None, last_updated_timestamp=1761709478185, metrics=None, model_id=None, name='nyc-taxi-xgboost-latest', params=None, run_id='5ef86dad014342e59f774415cb739edc', run_link=None, source='models:/m-e63222b9b0074f779cb1f4b57ccc4d02', status='READY', status_message=None, tags={}, user_id=None, version=5>"
      ]
     },
     "execution_count": 91,
     "metadata": {},
     "output_type": "execute_result"
    }
   ],
   "source": [
    "run_id = \"5ef86dad014342e59f774415cb739edc\"\n",
    "model_uri = f\"runs:/{run_id}/model\"\n",
    "\n",
    "mlflow.register_model(model_uri=model_uri, name=\"nyc-taxi-xgboost-latest\")"
   ]
  },
  {
   "cell_type": "code",
   "execution_count": 92,
   "id": "d7bab37c",
   "metadata": {},
   "outputs": [
    {
     "data": {
      "text/plain": [
       "[<RegisteredModel: aliases={}, creation_timestamp=1761678934995, deployment_job_id=None, deployment_job_state=None, description=None, last_updated_timestamp=1761679105664, latest_versions=[<ModelVersion: aliases=[], creation_timestamp=1761679105664, current_stage='None', deployment_job_state=None, description=None, last_updated_timestamp=1761679105664, metrics=None, model_id=None, name='nyc-taxi-duration-model', params=None, run_id='af631cc5e7ce4a24bdc2951de45ac1d7', run_link=None, source='models:/m-944bc58df8364c65aaaf93741da67b2d', status='READY', status_message=None, tags={}, user_id=None, version=1>], name='nyc-taxi-duration-model', tags={}>,\n",
       " <RegisteredModel: aliases={'candidate': 3, 'champion': 1}, creation_timestamp=1761677924672, deployment_job_id=None, deployment_job_state=None, description='NYC Taxi Predictor', last_updated_timestamp=1761709478185, latest_versions=[<ModelVersion: aliases=[], creation_timestamp=1761709478185, current_stage='None', deployment_job_state=None, description=None, last_updated_timestamp=1761709478185, metrics=None, model_id=None, name='nyc-taxi-xgboost-latest', params=None, run_id='5ef86dad014342e59f774415cb739edc', run_link=None, source='models:/m-e63222b9b0074f779cb1f4b57ccc4d02', status='READY', status_message=None, tags={}, user_id=None, version=5>], name='nyc-taxi-xgboost-latest', tags={}>]"
      ]
     },
     "execution_count": 92,
     "metadata": {},
     "output_type": "execute_result"
    }
   ],
   "source": [
    "client.search_registered_models()"
   ]
  },
  {
   "cell_type": "code",
   "execution_count": 93,
   "id": "7e5de787",
   "metadata": {},
   "outputs": [
    {
     "name": "stdout",
     "output_type": "stream",
     "text": [
      "Version 5: Aliases = ['candidate'], Run ID: 5ef86dad014342e59f774415cb739edc\n",
      "Version 4: Aliases = [], Run ID: 5ef86dad014342e59f774415cb739edc\n",
      "Version 3: Aliases = [], Run ID: \n",
      "Version 2: Aliases = [], Run ID: af631cc5e7ce4a24bdc2951de45ac1d7\n",
      "Version 1: Aliases = ['champion'], Run ID: \n"
     ]
    }
   ],
   "source": [
    "model_name = \"nyc-taxi-xgboost-latest\"\n",
    "\n",
    "versions = client.search_model_versions(f\"name='{model_name}'\")\n",
    "\n",
    "latest_version = max(int(v.version) for v in versions)\n",
    "client.set_registered_model_alias(model_name, \"candidate\", latest_version)\n",
    "client.set_registered_model_alias(model_name, \"champion\", 1)\n",
    "\n",
    "\n",
    "for v in versions:\n",
    "    version_aliases = [\n",
    "        alias\n",
    "        for alias in [\"champion\", \"candidate\"]\n",
    "        if client.get_model_version_by_alias(model_name, alias).version == v.version\n",
    "    ]\n",
    "    print(f\"Version {v.version}: Aliases = {version_aliases}, Run ID: {v.run_id}\")"
   ]
  },
  {
   "cell_type": "code",
   "execution_count": 94,
   "id": "bec9108d",
   "metadata": {},
   "outputs": [],
   "source": [
    "model_version = 4\n",
    "new_alias = \"champion\"\n",
    "client.set_registered_model_alias(\n",
    "    name=model_name,\n",
    "    version=model_version,\n",
    "    alias=new_alias,\n",
    ")"
   ]
  },
  {
   "cell_type": "code",
   "execution_count": 95,
   "id": "30a5e943",
   "metadata": {},
   "outputs": [
    {
     "data": {
      "text/plain": [
       "<ModelVersion: aliases=['champion'], creation_timestamp=1761709432794, current_stage='None', deployment_job_state=None, description='The model version 4 was transitioned to champion on 2025-10-29', last_updated_timestamp=1761709501111, metrics=None, model_id=None, name='nyc-taxi-xgboost-latest', params=None, run_id='5ef86dad014342e59f774415cb739edc', run_link=None, source='models:/m-e63222b9b0074f779cb1f4b57ccc4d02', status='READY', status_message=None, tags={}, user_id=None, version=4>"
      ]
     },
     "execution_count": 95,
     "metadata": {},
     "output_type": "execute_result"
    }
   ],
   "source": [
    "from datetime import datetime\n",
    "\n",
    "date = datetime.today().date()\n",
    "client.update_model_version(\n",
    "    name=model_name,\n",
    "    version=model_version,\n",
    "    description=f\"The model version {model_version} was transitioned to {new_alias} on {date}\"\n",
    ")"
   ]
  },
  {
   "cell_type": "code",
   "execution_count": 96,
   "id": "38f6a5ab",
   "metadata": {},
   "outputs": [
    {
     "name": "stdout",
     "output_type": "stream",
     "text": [
      "Version 4 | Tags: {'stage': 'staging'}\n",
      "Version 5 | Tags: {'stage': 'staging'}\n",
      "Version 3 | Tags: {'stage': 'staging'}\n",
      "Version 2 | Tags: {'stage': 'staging'}\n",
      "Version 1 | Tags: {'stage': 'production'}\n"
     ]
    }
   ],
   "source": [
    "versions = client.search_model_versions(f\"name='{model_name}'\")\n",
    "for v in versions:\n",
    "    print(f\"Version {v.version} | Tags: {v.tags}\")"
   ]
  },
  {
   "cell_type": "code",
   "execution_count": 64,
   "id": "c47e1e54",
   "metadata": {},
   "outputs": [],
   "source": [
    "client.set_model_version_tag(\n",
    "    name=model_name,\n",
    "    version=\"2\",\n",
    "    key=\"stage\",\n",
    "    value=\"staging\"\n",
    ")\n",
    "\n",
    "client.set_model_version_tag(\n",
    "    name=model_name,\n",
    "    version=\"1\",\n",
    "    key=\"stage\",\n",
    "    value=\"production\"\n",
    ")"
   ]
  },
  {
   "cell_type": "code",
   "execution_count": 105,
   "id": "695c6bd8",
   "metadata": {},
   "outputs": [],
   "source": [
    "from sklearn.metrics import root_mean_squared_error\n",
    "import pandas as pd\n",
    "\n",
    "\n",
    "def read_dataframe(filename):\n",
    "    df = pd.read_parquet(filename)\n",
    "\n",
    "    df.lpep_dropoff_datetime = pd.to_datetime(df.lpep_dropoff_datetime)\n",
    "    df.lpep_pickup_datetime = pd.to_datetime(df.lpep_pickup_datetime)\n",
    "\n",
    "    df['duration'] = df.lpep_dropoff_datetime - df.lpep_pickup_datetime\n",
    "    df.duration = df.duration.apply(lambda td: td.total_seconds() / 60)\n",
    "\n",
    "    df = df[(df.duration >= 1) & (df.duration <= 60)]\n",
    "\n",
    "    categorical = ['PULocationID', 'DOLocationID']\n",
    "    df[categorical] = df[categorical].astype(str)\n",
    "    \n",
    "    return df\n",
    "\n",
    "\n",
    "def preprocess(df, dv):\n",
    "    df['PU_DO'] = df['PULocationID'] + '_' + df['DOLocationID']\n",
    "    categorical = ['PU_DO']\n",
    "    numerical = ['trip_distance']\n",
    "    train_dicts = df[categorical + numerical].to_dict(orient='records')\n",
    "    return dv.transform(train_dicts)\n",
    "\n",
    "\n",
    "def test_model(name, stage_tag, X_test, y_test):\n",
    "    client = mlflow.tracking.MlflowClient()\n",
    "    \n",
    "    # Find model version with the given tag\n",
    "    version = next(\n",
    "        v.version for v in client.search_model_versions(f\"name='{name}'\")\n",
    "        if v.tags.get(\"stage\") == stage_tag\n",
    "    )\n",
    "    \n",
    "    model = mlflow.pyfunc.load_model(f\"models:/{name}/{version}\")\n",
    "    y_pred = model.predict(X_test)\n",
    "    return {\"rmse\": root_mean_squared_error(y_test, y_pred)}"
   ]
  },
  {
   "cell_type": "code",
   "execution_count": 98,
   "id": "9c45f9d6",
   "metadata": {},
   "outputs": [],
   "source": [
    "df = read_dataframe(\"data/green_tripdata_2024-03.parquet\")"
   ]
  },
  {
   "cell_type": "code",
   "execution_count": null,
   "id": "e1828f6d",
   "metadata": {},
   "outputs": [],
   "source": []
  },
  {
   "cell_type": "code",
   "execution_count": 99,
   "id": "38b3489b",
   "metadata": {},
   "outputs": [
    {
     "data": {
      "text/html": [
       "<div>\n",
       "<style scoped>\n",
       "    .dataframe tbody tr th:only-of-type {\n",
       "        vertical-align: middle;\n",
       "    }\n",
       "\n",
       "    .dataframe tbody tr th {\n",
       "        vertical-align: top;\n",
       "    }\n",
       "\n",
       "    .dataframe thead th {\n",
       "        text-align: right;\n",
       "    }\n",
       "</style>\n",
       "<table border=\"1\" class=\"dataframe\">\n",
       "  <thead>\n",
       "    <tr style=\"text-align: right;\">\n",
       "      <th></th>\n",
       "      <th>VendorID</th>\n",
       "      <th>lpep_pickup_datetime</th>\n",
       "      <th>lpep_dropoff_datetime</th>\n",
       "      <th>store_and_fwd_flag</th>\n",
       "      <th>RatecodeID</th>\n",
       "      <th>PULocationID</th>\n",
       "      <th>DOLocationID</th>\n",
       "      <th>passenger_count</th>\n",
       "      <th>trip_distance</th>\n",
       "      <th>fare_amount</th>\n",
       "      <th>extra</th>\n",
       "      <th>mta_tax</th>\n",
       "      <th>tip_amount</th>\n",
       "      <th>tolls_amount</th>\n",
       "      <th>ehail_fee</th>\n",
       "      <th>improvement_surcharge</th>\n",
       "      <th>total_amount</th>\n",
       "      <th>payment_type</th>\n",
       "      <th>trip_type</th>\n",
       "      <th>congestion_surcharge</th>\n",
       "      <th>duration</th>\n",
       "    </tr>\n",
       "  </thead>\n",
       "  <tbody>\n",
       "    <tr>\n",
       "      <th>0</th>\n",
       "      <td>2</td>\n",
       "      <td>2024-03-01 00:10:52</td>\n",
       "      <td>2024-03-01 00:26:12</td>\n",
       "      <td>N</td>\n",
       "      <td>1.0</td>\n",
       "      <td>129</td>\n",
       "      <td>226</td>\n",
       "      <td>1.0</td>\n",
       "      <td>1.72</td>\n",
       "      <td>12.8</td>\n",
       "      <td>1.0</td>\n",
       "      <td>0.5</td>\n",
       "      <td>3.06</td>\n",
       "      <td>0.0</td>\n",
       "      <td>NaN</td>\n",
       "      <td>1.0</td>\n",
       "      <td>18.36</td>\n",
       "      <td>1.0</td>\n",
       "      <td>1.0</td>\n",
       "      <td>0.00</td>\n",
       "      <td>15.333333</td>\n",
       "    </tr>\n",
       "    <tr>\n",
       "      <th>1</th>\n",
       "      <td>2</td>\n",
       "      <td>2024-03-01 00:22:21</td>\n",
       "      <td>2024-03-01 00:35:15</td>\n",
       "      <td>N</td>\n",
       "      <td>1.0</td>\n",
       "      <td>130</td>\n",
       "      <td>218</td>\n",
       "      <td>1.0</td>\n",
       "      <td>3.25</td>\n",
       "      <td>17.7</td>\n",
       "      <td>1.0</td>\n",
       "      <td>0.5</td>\n",
       "      <td>0.00</td>\n",
       "      <td>0.0</td>\n",
       "      <td>NaN</td>\n",
       "      <td>1.0</td>\n",
       "      <td>20.20</td>\n",
       "      <td>2.0</td>\n",
       "      <td>1.0</td>\n",
       "      <td>0.00</td>\n",
       "      <td>12.900000</td>\n",
       "    </tr>\n",
       "    <tr>\n",
       "      <th>2</th>\n",
       "      <td>2</td>\n",
       "      <td>2024-03-01 00:45:27</td>\n",
       "      <td>2024-03-01 01:04:32</td>\n",
       "      <td>N</td>\n",
       "      <td>1.0</td>\n",
       "      <td>255</td>\n",
       "      <td>107</td>\n",
       "      <td>2.0</td>\n",
       "      <td>4.58</td>\n",
       "      <td>23.3</td>\n",
       "      <td>1.0</td>\n",
       "      <td>0.5</td>\n",
       "      <td>3.50</td>\n",
       "      <td>0.0</td>\n",
       "      <td>NaN</td>\n",
       "      <td>1.0</td>\n",
       "      <td>32.05</td>\n",
       "      <td>1.0</td>\n",
       "      <td>1.0</td>\n",
       "      <td>2.75</td>\n",
       "      <td>19.083333</td>\n",
       "    </tr>\n",
       "    <tr>\n",
       "      <th>3</th>\n",
       "      <td>1</td>\n",
       "      <td>2024-03-01 00:02:00</td>\n",
       "      <td>2024-03-01 00:23:45</td>\n",
       "      <td>N</td>\n",
       "      <td>1.0</td>\n",
       "      <td>181</td>\n",
       "      <td>71</td>\n",
       "      <td>1.0</td>\n",
       "      <td>0.00</td>\n",
       "      <td>22.5</td>\n",
       "      <td>0.0</td>\n",
       "      <td>1.5</td>\n",
       "      <td>0.00</td>\n",
       "      <td>0.0</td>\n",
       "      <td>NaN</td>\n",
       "      <td>1.0</td>\n",
       "      <td>24.00</td>\n",
       "      <td>1.0</td>\n",
       "      <td>1.0</td>\n",
       "      <td>0.00</td>\n",
       "      <td>21.750000</td>\n",
       "    </tr>\n",
       "    <tr>\n",
       "      <th>4</th>\n",
       "      <td>2</td>\n",
       "      <td>2024-03-01 00:16:45</td>\n",
       "      <td>2024-03-01 00:23:25</td>\n",
       "      <td>N</td>\n",
       "      <td>1.0</td>\n",
       "      <td>95</td>\n",
       "      <td>135</td>\n",
       "      <td>1.0</td>\n",
       "      <td>1.15</td>\n",
       "      <td>8.6</td>\n",
       "      <td>1.0</td>\n",
       "      <td>0.5</td>\n",
       "      <td>1.00</td>\n",
       "      <td>0.0</td>\n",
       "      <td>NaN</td>\n",
       "      <td>1.0</td>\n",
       "      <td>12.10</td>\n",
       "      <td>1.0</td>\n",
       "      <td>1.0</td>\n",
       "      <td>0.00</td>\n",
       "      <td>6.666667</td>\n",
       "    </tr>\n",
       "  </tbody>\n",
       "</table>\n",
       "</div>"
      ],
      "text/plain": [
       "   VendorID lpep_pickup_datetime  ... congestion_surcharge   duration\n",
       "0         2  2024-03-01 00:10:52  ...                 0.00  15.333333\n",
       "1         2  2024-03-01 00:22:21  ...                 0.00  12.900000\n",
       "2         2  2024-03-01 00:45:27  ...                 2.75  19.083333\n",
       "3         1  2024-03-01 00:02:00  ...                 0.00  21.750000\n",
       "4         2  2024-03-01 00:16:45  ...                 0.00   6.666667\n",
       "\n",
       "[5 rows x 21 columns]"
      ]
     },
     "execution_count": 99,
     "metadata": {},
     "output_type": "execute_result"
    }
   ],
   "source": [
    "df.head()"
   ]
  },
  {
   "cell_type": "code",
   "execution_count": 101,
   "id": "f37ef842",
   "metadata": {},
   "outputs": [
    {
     "data": {
      "application/vnd.jupyter.widget-view+json": {
       "model_id": "b1b1abe0f1be41d4a87f677768682d82",
       "version_major": 2,
       "version_minor": 0
      },
      "text/plain": [
       "Downloading artifacts:   0%|          | 0/1 [00:00<?, ?it/s]"
      ]
     },
     "metadata": {},
     "output_type": "display_data"
    },
    {
     "data": {
      "text/plain": [
       "'/Users/kennethleo/Documents/GitHub/mlops-zoomcamp/02-experiment-tracking/preprocessor'"
      ]
     },
     "execution_count": 101,
     "metadata": {},
     "output_type": "execute_result"
    }
   ],
   "source": [
    "client.download_artifacts(run_id=run_id, path='preprocessor', dst_path='.')\n"
   ]
  },
  {
   "cell_type": "code",
   "execution_count": 102,
   "id": "d578b912",
   "metadata": {},
   "outputs": [],
   "source": [
    "import pickle\n",
    "\n",
    "with open(\"preprocessor/preprocessor.b\", \"rb\") as f_in:\n",
    "    dv = pickle.load(f_in)"
   ]
  },
  {
   "cell_type": "code",
   "execution_count": 103,
   "id": "4a3c13a0",
   "metadata": {},
   "outputs": [],
   "source": [
    "X_test = preprocess(df, dv)\n",
    "\n",
    "target = \"duration\"\n",
    "y_test = df[target].values"
   ]
  },
  {
   "cell_type": "code",
   "execution_count": 106,
   "id": "ab478814",
   "metadata": {},
   "outputs": [
    {
     "name": "stdout",
     "output_type": "stream",
     "text": [
      "CPU times: user 4.35 s, sys: 280 ms, total: 4.63 s\n",
      "Wall time: 1.8 s\n"
     ]
    },
    {
     "data": {
      "text/plain": [
       "{'rmse': 5.182301539260736}"
      ]
     },
     "execution_count": 106,
     "metadata": {},
     "output_type": "execute_result"
    }
   ],
   "source": [
    "%time test_model(name=model_name, stage_tag=\"production\", X_test=X_test, y_test=y_test)\n"
   ]
  },
  {
   "cell_type": "code",
   "execution_count": 107,
   "id": "d8ca2f94",
   "metadata": {},
   "outputs": [
    {
     "name": "stdout",
     "output_type": "stream",
     "text": [
      "CPU times: user 4.01 s, sys: 70.3 ms, total: 4.08 s\n",
      "Wall time: 792 ms\n"
     ]
    },
    {
     "data": {
      "text/plain": [
       "{'rmse': 5.182301539260736}"
      ]
     },
     "execution_count": 107,
     "metadata": {},
     "output_type": "execute_result"
    }
   ],
   "source": [
    "%time test_model(name=model_name, stage_tag=\"staging\", X_test=X_test, y_test=y_test)\n"
   ]
  },
  {
   "cell_type": "code",
   "execution_count": null,
   "id": "45876192",
   "metadata": {},
   "outputs": [],
   "source": []
  }
 ],
 "metadata": {
  "kernelspec": {
   "display_name": "exp-tracking-env",
   "language": "python",
   "name": "python3"
  },
  "language_info": {
   "codemirror_mode": {
    "name": "ipython",
    "version": 3
   },
   "file_extension": ".py",
   "mimetype": "text/x-python",
   "name": "python",
   "nbconvert_exporter": "python",
   "pygments_lexer": "ipython3",
   "version": "3.9.24"
  }
 },
 "nbformat": 4,
 "nbformat_minor": 5
}
